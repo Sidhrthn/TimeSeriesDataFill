{
 "cells": [
  {
   "cell_type": "code",
   "execution_count": 1,
   "id": "29664d8a-bd2c-46d6-8140-430b0febb089",
   "metadata": {},
   "outputs": [],
   "source": [
    "import pandas as pd\n",
    "import math\n",
    "\n",
    "# Read the Excel file\n",
    "file_path = 'D:\\\\Y_output.xlsx'\n",
    "df = pd.read_excel(file_path)"
   ]
  },
  {
   "cell_type": "code",
   "execution_count": 2,
   "id": "00dcfb46-10fa-4ac5-8d88-95288dd4cb86",
   "metadata": {},
   "outputs": [
    {
     "data": {
      "text/plain": [
       "[0, 9, 20]"
      ]
     },
     "execution_count": 2,
     "metadata": {},
     "output_type": "execute_result"
    }
   ],
   "source": [
    "# Find indices where the pattern \"Data Content ::\" occurs\n",
    "pattern_indices = df[df.iloc[:, 0].str.startswith('Data Content ::', na=False)].index.tolist()\n",
    "pattern_indices.insert(0,0)"
   ]
  },
  {
   "cell_type": "code",
   "execution_count": 3,
   "id": "dbd76297-7d44-48f5-a86b-c208c925d295",
   "metadata": {},
   "outputs": [
    {
     "name": "stdout",
     "output_type": "stream",
     "text": [
      "0 8\n",
      "11 19\n",
      "22 24\n"
     ]
    }
   ],
   "source": [
    "# Extract and process data between occurrences of the pattern\n",
    "row_dict = dict()\n",
    "for i in range(len(pattern_indices)):\n",
    "    if i == 0:\n",
    "        start_idx = pattern_indices[i]\n",
    "        end_idx = pattern_indices[i + 1] - 1\n",
    "    elif i < len(pattern_indices)-1:\n",
    "        start_idx = pattern_indices[i] + 2  # Considering 2 rows after the pattern for data extraction\n",
    "        end_idx = pattern_indices[i + 1] - 1    # Considering 2 rows before the next pattern for data extraction\n",
    "    else:\n",
    "        start_idx = pattern_indices[i] + 2\n",
    "        end_idx = len(df)-1\n",
    "\n",
    "    print (start_idx, end_idx)\n",
    "\n",
    "    if start_idx < end_idx :\n",
    "        \n",
    "        extracted_data = df.iloc[start_idx:end_idx + 1]\n",
    "    \n",
    "        # Remove rows with all NaN values\n",
    "        extracted_data = extracted_data.dropna(how='all')\n",
    "        if start_idx > 0:\n",
    "            extracted_data.columns = extracted_data.iloc[0]\n",
    "            extracted_data = extracted_data.iloc[1:]\n",
    "            extracted_data.reset_index(drop=True, inplace=True)\n",
    "        else:\n",
    "            None\n",
    "\n",
    "    for index, row in extracted_data.iterrows():\n",
    "        v_name = None\n",
    "        column_dict = dict()\n",
    "        for column in extracted_data.columns:\n",
    "            if column != 'name':\n",
    "                if pd.notnull(row[column]):\n",
    "                    value = row[column]\n",
    "                    if isinstance(value, str) and value.startswith(\"[\") and value.endswith(\"]\"):\n",
    "                        values = value[1:-1].split(', ')\n",
    "                    else:\n",
    "                        values = value\n",
    "                    \n",
    "                    column_dict[column] = values\n",
    "            else:\n",
    "                v_name = row[column]\n",
    "        if '- name: \"'+v_name+'\"' in row_dict:\n",
    "            None\n",
    "        else:\n",
    "            row_dict[ '- name: \"'+v_name+'\"' ] = list()\n",
    "        row_dict[ '- name: \"'+v_name+'\"' ].append( column_dict )\n",
    "\n"
   ]
  },
  {
   "cell_type": "code",
   "execution_count": null,
   "id": "0843d4e5-25cd-43e6-bff4-03c41ea024a7",
   "metadata": {},
   "outputs": [],
   "source": []
  },
  {
   "cell_type": "code",
   "execution_count": 4,
   "id": "906667a3-5fe7-4b4c-acac-e9cf51310f30",
   "metadata": {},
   "outputs": [],
   "source": [
    "data_dict = dict()\n",
    "\n",
    "for v_name, v_name_list in row_dict.items():\n",
    "    \n",
    "    data_dict[v_name] = dict()\n",
    "\n",
    "    \n",
    "    for v_name_dict in v_name_list:\n",
    "        \n",
    "        if \"Base_Category\" in v_name_dict:\n",
    "            v_base_category = v_name_dict[\"Base_Category\"]\n",
    "            if v_base_category in data_dict[v_name]:\n",
    "                None\n",
    "            else:\n",
    "                data_dict[v_name][v_base_category] = list()\n",
    "\n",
    "            blist = list()\n",
    "            for bd_key, bd_val in v_name_dict.items():\n",
    "                if bd_key in (\"Base_Category\", \"Category\"):\n",
    "                    None\n",
    "                else:\n",
    "                    blist += ((bd_key,bd_val),)\n",
    "\n",
    "            data_dict[v_name][v_base_category].append(blist)\n",
    "        else:\n",
    "            for mainkey, mainval in v_name_dict.items():\n",
    "                data_dict[v_name][mainkey] = mainval"
   ]
  },
  {
   "cell_type": "code",
   "execution_count": null,
   "id": "6099ae90-b10c-4dc8-adbe-380b63d081ed",
   "metadata": {},
   "outputs": [],
   "source": []
  },
  {
   "cell_type": "code",
   "execution_count": null,
   "id": "e6768cb3-4516-4015-88fc-e0825498b1b0",
   "metadata": {},
   "outputs": [],
   "source": []
  },
  {
   "cell_type": "code",
   "execution_count": 5,
   "id": "54533788-f28d-4954-9cca-b4e56324f9a5",
   "metadata": {},
   "outputs": [],
   "source": [
    "def Process_dictdata(dictdata, Final_Yml, tabbed_int):\n",
    "    for dictkey, dictval in dictdata.items():\n",
    "        #print (dictkey, dictval, type(dictval))\n",
    "        if type(dictval) is list:\n",
    "            Final_Yml += ( (\"  \"*tabbed_int)+str(dictkey)+\":\\n\" )\n",
    "            if all(isinstance(elem, str) for elem in dictval):\n",
    "                #print (\"\\tA\")\n",
    "                tabbed_int+=1\n",
    "                for list_elem in dictval:\n",
    "                    Final_Yml += ( (\"  \"*tabbed_int)+\"- \"+str(list_elem)+\"\\n\" )\n",
    "                tabbed_int-=1\n",
    "            elif all(isinstance(elem, list) for elem in dictval):\n",
    "                #print (\"\\tB\")\n",
    "                \n",
    "                for list_elem in dictval:\n",
    "                    list_elem_cnt = 0\n",
    "                    for tuple_val in list_elem:\n",
    "                        tabbed_int+=1\n",
    "                        if list_elem_cnt == 0:\n",
    "                            Final_Yml += ( (\"  \"*tabbed_int)+\"- \"+str(tuple_val[0])+\": \"+str(tuple_val[1])+\"\\n\" )\n",
    "                            tabbed_int+=1\n",
    "                        else:\n",
    "                            Final_Yml += ( (\"  \"*tabbed_int)+str(tuple_val[0])+\": \"+str(tuple_val[1])+\"\\n\" )\n",
    "                        list_elem_cnt+=1\n",
    "                        tabbed_int-=1\n",
    "                    tabbed_int-=1\n",
    "            elif all(isinstance(elem, list) for elem in dictval):\n",
    "                print (\"\\t\\t\\t\",\"XXXXX\",dictkey, dictval, type(dictval) )\n",
    "        else:\n",
    "            #print (\"\\tC\")\n",
    "            Final_Yml += ( (\"  \"*tabbed_int)+str(dictkey)+\": \"+str(dictval)+\"\\n\" )\n",
    "        #print (\"\\n\\n\")\n",
    "    return Final_Yml"
   ]
  },
  {
   "cell_type": "code",
   "execution_count": 6,
   "id": "f1477bde-a5f4-49fc-b803-8ce3d02a7c70",
   "metadata": {},
   "outputs": [
    {
     "name": "stdout",
     "output_type": "stream",
     "text": [
      "- name: \"AISONLINE\"\n",
      "  count: 5\n",
      "  target:\n",
      "    - SG\n",
      "    - HK\n",
      "  target-zone: dmz3\n",
      "  os: SCB-RHEL8\n",
      "  cpu: 32\n",
      "  memory: 64\n",
      "  san:\n",
      "    - size: 200\n",
      "      index: 1\n",
      "      scsi-controller: 0\n",
      "      mount-path: /app/instancel\n",
      "    - size: 700\n",
      "      index: 1\n",
      "      scsi-controller: 0\n",
      "      mount-path: /app/batch\n",
      "- name: \"BATCH1\"\n",
      "  count: 7\n",
      "  target:\n",
      "    - SG\n",
      "    - HK\n",
      "  target-zone: dmz3\n",
      "  cpu: 8\n",
      "  memory: 32\n",
      "  OS: SCB-RHEL8\n",
      "  san:\n",
      "    - size: 200\n",
      "      index: 2\n",
      "      scsi-controller: 0\n",
      "      mount-path: /app/instance2\n",
      "    - size: 10\n",
      "      index: 2\n",
      "      scsi-controller: 0\n",
      "      mount-path: /u01/app/oracle\n",
      "- name: \"ZZZtemp\"\n",
      "  count: 5\n",
      "  target:\n",
      "    - SG\n",
      "    - HK\n",
      "  target-zone: dmz3\n",
      "  os: SCB-RHEL8\n",
      "  cpu: 64\n",
      "  memory: 256\n",
      "  nas:\n",
      "    - nas-size: 200\n",
      "      nas-index: 1\n",
      "      nas-scsi-controller: 0\n",
      "      nas-mount-path: /app/instancel\n",
      "    - nas-size: 700\n",
      "      nas-index: 1\n",
      "      nas-scsi-controller: 0\n",
      "      nas-mount-path: /app/batch\n",
      "\n"
     ]
    }
   ],
   "source": [
    "Final_Yml = \"\"\n",
    "tabbed_int = 0\n",
    "for data_key, dictdata in data_dict.items():\n",
    "    Final_Yml += data_key+\"\\n\"\n",
    "    tabbed_int+=1\n",
    "    Final_Yml = Process_dictdata(dictdata, Final_Yml, tabbed_int)\n",
    "    tabbed_int-=1\n",
    "print (Final_Yml)"
   ]
  },
  {
   "cell_type": "code",
   "execution_count": null,
   "id": "4dd57c21-0491-43f2-ab7f-24638402143c",
   "metadata": {},
   "outputs": [],
   "source": []
  },
  {
   "cell_type": "code",
   "execution_count": null,
   "id": "822554ef-8373-423e-8dc0-df123c16b07e",
   "metadata": {},
   "outputs": [],
   "source": []
  },
  {
   "cell_type": "code",
   "execution_count": null,
   "id": "558b5d66-9464-46d0-a99e-b9259073b936",
   "metadata": {},
   "outputs": [],
   "source": []
  },
  {
   "cell_type": "code",
   "execution_count": null,
   "id": "76bd4810-e379-4732-89fb-126ac09afd35",
   "metadata": {},
   "outputs": [],
   "source": []
  },
  {
   "cell_type": "code",
   "execution_count": null,
   "id": "4a4d3c7a-509c-40e6-b0b1-ea649a36a9e5",
   "metadata": {},
   "outputs": [],
   "source": []
  }
 ],
 "metadata": {
  "kernelspec": {
   "display_name": "Python 3 (ipykernel)",
   "language": "python",
   "name": "python3"
  },
  "language_info": {
   "codemirror_mode": {
    "name": "ipython",
    "version": 3
   },
   "file_extension": ".py",
   "mimetype": "text/x-python",
   "name": "python",
   "nbconvert_exporter": "python",
   "pygments_lexer": "ipython3",
   "version": "3.11.5"
  }
 },
 "nbformat": 4,
 "nbformat_minor": 5
}
